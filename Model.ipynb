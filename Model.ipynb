{
 "cells": [
  {
   "cell_type": "code",
   "execution_count": 17,
   "metadata": {},
   "outputs": [],
   "source": [
    "import random\n",
    "import numpy as np\n",
    "import tensorflow as tf\n",
    "import tensorflow.keras as tfk\n",
    "import tensorflow.keras.layers as tfkl\n",
    "from tensorflow.keras.layers import Conv1D, MaxPooling1D, Flatten, Dense\n",
    "import tensorflow.keras.backend as tfkb\n",
    "import tensorflow.keras.regularizers as tfkr\n",
    "import matplotlib as mpl\n",
    "import matplotlib.pyplot as plt"
   ]
  },
  {
   "cell_type": "code",
   "execution_count": 86,
   "metadata": {},
   "outputs": [
    {
     "name": "stdout",
     "output_type": "stream",
     "text": [
      "(995, 6)\n"
     ]
    }
   ],
   "source": [
    "#Creating a test dataset\n",
    "t = np.arange(1,1000)\n",
    "desired = 1*np.sin(t)\n",
    "actual = 0.8*np.sin(t + 0.05)\n",
    "window_size = 5\n",
    "def create_input_dataset(array1,array2, window_size = 5):\n",
    "    Xn= []\n",
    "    for i in range(array1.size):\n",
    "        if(i+1>=window_size):\n",
    "            temp = []\n",
    "            for j in range(i+1 - window_size, i+1):\n",
    "                temp.append(array1[j])\n",
    "            temp.append(array2[i])\n",
    "            Xn.append(temp)\n",
    "    return np.array(Xn)\n",
    "\n",
    "def create_output_dataset(array):\n",
    "    Yn = []\n",
    "    h = 5*0.001\n",
    "    array = array[window_size-1:,]\n",
    "    for i in range(array.size):\n",
    "        if (i==0):\n",
    "            Yn.append((array[i] - 2*array[i+1]+array[i+2])/(h**2))\n",
    "        elif (i == array.size -1):\n",
    "            Yn.append((array[i] - 2*array[i-1]+array[i-2])/(h**2))\n",
    "        else:\n",
    "            Yn.append((array[i+1] - 2*array[i] + array[i-1])/(h*h))\n",
    "    return np.array(Yn)    \n",
    "Xs = create_input_dataset(actual,desired, window_size)\n",
    "Ys = create_output_dataset(desired)\n",
    "print(Xs.shape)"
   ]
  },
  {
   "cell_type": "code",
   "execution_count": 64,
   "metadata": {},
   "outputs": [],
   "source": [
    "from sklearn.preprocessing import MinMaxScaler\n",
    "scaler = MinMaxScaler() \n",
    "Ys_scaled = np.reshape(scaler.fit_transform(np.reshape(Ys, (-1,1))), Ys.shape[0])\n",
    "Xs_scaled = np.reshape(scaler.fit_transform(np.reshape(Xs, Xs.shape[:2])), (Xs.shape[0], Xs.shape[1],1))"
   ]
  },
  {
   "cell_type": "code",
   "execution_count": 123,
   "metadata": {},
   "outputs": [],
   "source": [
    "#Create a model\n",
    "def build_model():\n",
    "    l2r = 1e-6\n",
    "    model = tf.keras.Sequential()\n",
    "    model.add(Conv1D(filters=64, kernel_size=2, activation='relu',  kernel_regularizer=tfkr.l2(l2r), input_shape=(window_size+1, 1)))\n",
    "    model.add(Conv1D(filters=64, kernel_size=2, activation='relu',  kernel_regularizer=tfkr.l2(l2r)))\n",
    "    model.add(MaxPooling1D(pool_size=2))\n",
    "    model.add(Flatten())\n",
    "    model.add(Dense(50, activation='relu'))\n",
    "    model.add(Dense(1))\n",
    "    model.compile(loss = 'mse', optimizer = 'Adam')\n",
    "    model.compile(optimizer=tfk.optimizers.Adam(1e-4), loss='mse')\n",
    "    return model\n",
    "model = build_model()\n",
    "test_input= np.array([1,2,3,4,5])\n",
    "t = np.reshape(test_input, (1,5,1))\n",
    "              \n",
    "    "
   ]
  },
  {
   "cell_type": "code",
   "execution_count": 70,
   "metadata": {},
   "outputs": [
    {
     "name": "stdout",
     "output_type": "stream",
     "text": [
      "Epoch 1/100\n",
      "995/995 [==============================] - 1s 613us/sample - loss: 0.1041\n",
      "Epoch 2/100\n",
      "995/995 [==============================] - 0s 67us/sample - loss: 0.0188\n",
      "Epoch 3/100\n",
      "995/995 [==============================] - 0s 52us/sample - loss: 0.0071\n",
      "Epoch 4/100\n",
      "995/995 [==============================] - 0s 48us/sample - loss: 0.0049\n",
      "Epoch 5/100\n",
      "995/995 [==============================] - 0s 61us/sample - loss: 0.0027\n",
      "Epoch 6/100\n",
      "995/995 [==============================] - 0s 62us/sample - loss: 0.0016\n",
      "Epoch 7/100\n",
      "995/995 [==============================] - 0s 49us/sample - loss: 0.0012\n",
      "Epoch 8/100\n",
      "995/995 [==============================] - 0s 59us/sample - loss: 8.1457e-04\n",
      "Epoch 9/100\n",
      "995/995 [==============================] - 0s 77us/sample - loss: 5.5050e-04\n",
      "Epoch 10/100\n",
      "995/995 [==============================] - 0s 51us/sample - loss: 4.6423e-04\n",
      "Epoch 11/100\n",
      "995/995 [==============================] - 0s 51us/sample - loss: 4.2139e-04\n",
      "Epoch 12/100\n",
      "995/995 [==============================] - 0s 50us/sample - loss: 3.6685e-04\n",
      "Epoch 13/100\n",
      "995/995 [==============================] - 0s 73us/sample - loss: 3.5401e-04\n",
      "Epoch 14/100\n",
      "995/995 [==============================] - 0s 48us/sample - loss: 3.4578e-04\n",
      "Epoch 15/100\n",
      "995/995 [==============================] - 0s 47us/sample - loss: 3.4330e-04\n",
      "Epoch 16/100\n",
      "995/995 [==============================] - 0s 51us/sample - loss: 3.3929e-04\n",
      "Epoch 17/100\n",
      "995/995 [==============================] - 0s 50us/sample - loss: 3.5394e-04\n",
      "Epoch 18/100\n",
      "995/995 [==============================] - 0s 49us/sample - loss: 3.4593e-04\n",
      "Epoch 19/100\n",
      "995/995 [==============================] - 0s 58us/sample - loss: 3.4451e-04\n",
      "Epoch 20/100\n",
      "995/995 [==============================] - 0s 65us/sample - loss: 3.4026e-04\n",
      "Epoch 21/100\n",
      "995/995 [==============================] - 0s 59us/sample - loss: 3.3899e-04\n",
      "Epoch 22/100\n",
      "995/995 [==============================] - 0s 60us/sample - loss: 3.3169e-04\n",
      "Epoch 23/100\n",
      "995/995 [==============================] - 0s 82us/sample - loss: 3.3657e-04\n",
      "Epoch 24/100\n",
      "995/995 [==============================] - 0s 57us/sample - loss: 3.4419e-04\n",
      "Epoch 25/100\n",
      "995/995 [==============================] - 0s 46us/sample - loss: 3.3456e-04\n",
      "Epoch 26/100\n",
      "995/995 [==============================] - 0s 49us/sample - loss: 3.6573e-04\n",
      "Epoch 27/100\n",
      "995/995 [==============================] - 0s 51us/sample - loss: 3.6327e-04\n",
      "Epoch 28/100\n",
      "995/995 [==============================] - 0s 49us/sample - loss: 3.5617e-04\n",
      "Epoch 29/100\n",
      "995/995 [==============================] - 0s 62us/sample - loss: 3.3318e-04\n",
      "Epoch 30/100\n",
      "995/995 [==============================] - 0s 107us/sample - loss: 3.4441e-04\n",
      "Epoch 31/100\n",
      "995/995 [==============================] - 0s 68us/sample - loss: 3.3951e-04\n",
      "Epoch 32/100\n",
      "995/995 [==============================] - 0s 76us/sample - loss: 3.7811e-04\n",
      "Epoch 33/100\n",
      "995/995 [==============================] - 0s 62us/sample - loss: 3.7344e-04\n",
      "Epoch 34/100\n",
      "995/995 [==============================] - 0s 51us/sample - loss: 4.2484e-04\n",
      "Epoch 35/100\n",
      "995/995 [==============================] - 0s 56us/sample - loss: 3.9878e-04\n",
      "Epoch 36/100\n",
      "995/995 [==============================] - 0s 53us/sample - loss: 3.3737e-04\n",
      "Epoch 37/100\n",
      "995/995 [==============================] - 0s 49us/sample - loss: 3.3079e-04\n",
      "Epoch 38/100\n",
      "995/995 [==============================] - 0s 50us/sample - loss: 3.3888e-04\n",
      "Epoch 39/100\n",
      "995/995 [==============================] - 0s 63us/sample - loss: 3.9124e-04\n",
      "Epoch 40/100\n",
      "995/995 [==============================] - 0s 66us/sample - loss: 3.7066e-04\n",
      "Epoch 41/100\n",
      "995/995 [==============================] - 0s 48us/sample - loss: 3.4448e-04\n",
      "Epoch 42/100\n",
      "995/995 [==============================] - 0s 48us/sample - loss: 3.3743e-04\n",
      "Epoch 43/100\n",
      "995/995 [==============================] - 0s 49us/sample - loss: 3.5129e-04\n",
      "Epoch 44/100\n",
      "995/995 [==============================] - 0s 51us/sample - loss: 3.4932e-04\n",
      "Epoch 45/100\n",
      "995/995 [==============================] - 0s 51us/sample - loss: 3.4258e-04\n",
      "Epoch 46/100\n",
      "995/995 [==============================] - 0s 108us/sample - loss: 3.4486e-04\n",
      "Epoch 47/100\n",
      "995/995 [==============================] - 0s 89us/sample - loss: 3.2760e-04\n",
      "Epoch 48/100\n",
      "995/995 [==============================] - 0s 90us/sample - loss: 3.2489e-04\n",
      "Epoch 49/100\n",
      "995/995 [==============================] - 0s 60us/sample - loss: 3.3219e-04\n",
      "Epoch 50/100\n",
      "995/995 [==============================] - 0s 45us/sample - loss: 3.3042e-04\n",
      "Epoch 51/100\n",
      "995/995 [==============================] - 0s 52us/sample - loss: 3.6249e-04\n",
      "Epoch 52/100\n",
      "995/995 [==============================] - 0s 52us/sample - loss: 3.6376e-04\n",
      "Epoch 53/100\n",
      "995/995 [==============================] - 0s 69us/sample - loss: 3.7439e-04\n",
      "Epoch 54/100\n",
      "995/995 [==============================] - 0s 84us/sample - loss: 3.3008e-04\n",
      "Epoch 55/100\n",
      "995/995 [==============================] - 0s 46us/sample - loss: 3.8557e-04\n",
      "Epoch 56/100\n",
      "995/995 [==============================] - 0s 76us/sample - loss: 3.7635e-04\n",
      "Epoch 57/100\n",
      "995/995 [==============================] - 0s 51us/sample - loss: 3.4615e-04\n",
      "Epoch 58/100\n",
      "995/995 [==============================] - 0s 65us/sample - loss: 3.2769e-04\n",
      "Epoch 59/100\n",
      "995/995 [==============================] - 0s 51us/sample - loss: 3.3672e-04\n",
      "Epoch 60/100\n",
      "995/995 [==============================] - 0s 47us/sample - loss: 3.3696e-04\n",
      "Epoch 61/100\n",
      "995/995 [==============================] - 0s 62us/sample - loss: 3.2620e-04\n",
      "Epoch 62/100\n",
      "995/995 [==============================] - 0s 53us/sample - loss: 3.2955e-04\n",
      "Epoch 63/100\n",
      "995/995 [==============================] - 0s 55us/sample - loss: 4.0693e-04\n",
      "Epoch 64/100\n",
      "995/995 [==============================] - 0s 49us/sample - loss: 3.6450e-04\n",
      "Epoch 65/100\n",
      "995/995 [==============================] - 0s 50us/sample - loss: 3.4322e-04\n",
      "Epoch 66/100\n",
      "995/995 [==============================] - 0s 49us/sample - loss: 3.3937e-04\n",
      "Epoch 67/100\n",
      "995/995 [==============================] - 0s 50us/sample - loss: 3.3107e-04\n",
      "Epoch 68/100\n",
      "995/995 [==============================] - 0s 49us/sample - loss: 3.4387e-04\n",
      "Epoch 69/100\n",
      "995/995 [==============================] - 0s 52us/sample - loss: 3.6683e-04\n",
      "Epoch 70/100\n",
      "995/995 [==============================] - 0s 51us/sample - loss: 3.7523e-04\n",
      "Epoch 71/100\n",
      "995/995 [==============================] - 0s 51us/sample - loss: 4.5726e-04\n",
      "Epoch 72/100\n",
      "995/995 [==============================] - 0s 69us/sample - loss: 3.8658e-04\n",
      "Epoch 73/100\n",
      "995/995 [==============================] - 0s 62us/sample - loss: 4.3157e-04\n",
      "Epoch 74/100\n",
      "995/995 [==============================] - 0s 59us/sample - loss: 4.3655e-04\n",
      "Epoch 75/100\n",
      "995/995 [==============================] - 0s 57us/sample - loss: 3.5698e-04\n",
      "Epoch 76/100\n",
      "995/995 [==============================] - 0s 65us/sample - loss: 3.4395e-04\n",
      "Epoch 77/100\n",
      "995/995 [==============================] - 0s 46us/sample - loss: 3.4131e-04\n",
      "Epoch 78/100\n",
      "995/995 [==============================] - 0s 53us/sample - loss: 3.4584e-04\n",
      "Epoch 79/100\n",
      "995/995 [==============================] - 0s 49us/sample - loss: 3.3669e-04\n",
      "Epoch 80/100\n",
      "995/995 [==============================] - 0s 50us/sample - loss: 3.4195e-04\n",
      "Epoch 81/100\n",
      "995/995 [==============================] - 0s 92us/sample - loss: 3.6440e-04\n",
      "Epoch 82/100\n",
      "995/995 [==============================] - 0s 75us/sample - loss: 3.4190e-04\n",
      "Epoch 83/100\n",
      "995/995 [==============================] - 0s 73us/sample - loss: 3.7796e-04\n",
      "Epoch 84/100\n",
      "995/995 [==============================] - 0s 61us/sample - loss: 3.6441e-04\n",
      "Epoch 85/100\n",
      "995/995 [==============================] - 0s 45us/sample - loss: 3.5776e-04\n",
      "Epoch 86/100\n",
      "995/995 [==============================] - 0s 47us/sample - loss: 4.0890e-04\n",
      "Epoch 87/100\n",
      "995/995 [==============================] - 0s 51us/sample - loss: 3.8055e-04\n",
      "Epoch 88/100\n",
      "995/995 [==============================] - 0s 47us/sample - loss: 3.3118e-04\n",
      "Epoch 89/100\n",
      "995/995 [==============================] - 0s 94us/sample - loss: 3.8367e-04\n",
      "Epoch 90/100\n",
      "995/995 [==============================] - 0s 83us/sample - loss: 3.9164e-04\n",
      "Epoch 91/100\n",
      "995/995 [==============================] - 0s 83us/sample - loss: 3.8310e-04\n",
      "Epoch 92/100\n"
     ]
    },
    {
     "name": "stdout",
     "output_type": "stream",
     "text": [
      "995/995 [==============================] - 0s 50us/sample - loss: 3.9885e-04\n",
      "Epoch 93/100\n",
      "995/995 [==============================] - 0s 74us/sample - loss: 3.5208e-04\n",
      "Epoch 94/100\n",
      "995/995 [==============================] - 0s 72us/sample - loss: 3.5181e-04\n",
      "Epoch 95/100\n",
      "995/995 [==============================] - 0s 63us/sample - loss: 3.3490e-04\n",
      "Epoch 96/100\n",
      "995/995 [==============================] - 0s 56us/sample - loss: 3.6786e-04\n",
      "Epoch 97/100\n",
      "995/995 [==============================] - 0s 45us/sample - loss: 3.9698e-04\n",
      "Epoch 98/100\n",
      "995/995 [==============================] - 0s 49us/sample - loss: 4.7241e-04\n",
      "Epoch 99/100\n",
      "995/995 [==============================] - 0s 89us/sample - loss: 3.8458e-04\n",
      "Epoch 100/100\n",
      "995/995 [==============================] - 0s 73us/sample - loss: 3.5590e-04\n"
     ]
    },
    {
     "data": {
      "text/plain": [
       "<tensorflow.python.keras.callbacks.History at 0x7f42dc7a2710>"
      ]
     },
     "execution_count": 70,
     "metadata": {},
     "output_type": "execute_result"
    }
   ],
   "source": [
    "model.fit(Xs_scaled, Ys_scaled, epochs = 100, batch_size = 128)\n"
   ]
  },
  {
   "cell_type": "code",
   "execution_count": 82,
   "metadata": {},
   "outputs": [
    {
     "data": {
      "image/png": "[encoded data removed]",
      "text/plain": [
       "<Figure size 432x288 with 1 Axes>"
      ]
     },
     "metadata": {
      "needs_background": "light"
     },
     "output_type": "display_data"
    }
   ],
   "source": [
    "Ys_actual = model.predict(Xs_scaled)\n",
    "plt.figure()\n",
    "plt.plot(Ys_scaled[:10],'r-.', alpha = 0.5)\n",
    "plt.plot(Ys_actual[:10], 'g.')\n",
    "plt.show()"
   ]
  },
  {
   "cell_type": "code",
   "execution_count": 226,
   "metadata": {},
   "outputs": [
    {
     "name": "stdout",
     "output_type": "stream",
     "text": [
      "(30344, 6) (30344,)\n"
     ]
    }
   ],
   "source": [
    "#Make the actual dataset\n",
    "import pandas as pd\n",
    "def create_dataset(window_size):\n",
    "    Xn = np.zeros((1,6))\n",
    "    Yn= np.zeros(1)\n",
    "    for i in range(1,26):\n",
    "        if(i == 12 or i == 16):\n",
    "            continue\n",
    "        name = '0wt_' + str(i)+'Freq_0.5Amplitude.csv'\n",
    "        df = pd.read_csv(name)\n",
    "        inp = df['desired'].to_numpy()\n",
    "        outp = df['actual'].to_numpy()\n",
    "        Xcurrent = create_input_dataset(outp, inp, window_size)\n",
    "        Ycurrent = create_output_dataset(outp)\n",
    "        Xn = np.concatenate([Xn,Xcurrent])\n",
    "        Yn = np.concatenate([Yn,Ycurrent])\n",
    "    return Xn, Yn\n",
    "Xs,Ys = create_dataset(window_size)\n",
    "print(Xs.shape, Ys.shape)\n"
   ]
  },
  {
   "cell_type": "code",
   "execution_count": 242,
   "metadata": {},
   "outputs": [
    {
     "name": "stdout",
     "output_type": "stream",
     "text": [
      "(30344, 6, 1) (30344,)\n",
      "(20344, 6, 1) (20344,)\n"
     ]
    }
   ],
   "source": [
    "from sklearn.preprocessing import MinMaxScaler\n",
    "from sklearn.utils import shuffle\n",
    "\n",
    "scaler = MinMaxScaler()\n",
    "Ys_scaled = np.reshape(scaler.fit_transform(np.reshape(Ys, (-1,1))), Ys.shape[0])\n",
    "Xs_scaled = scaler.fit_transform(Xs)\n",
    "Xs_scaled, Ys_scaled = shuffle(Xs_scaled, Ys_scaled)\n",
    "Xs_scaled = np.reshape(Xs_scaled, (Xs_scaled.shape[0], Xs_scaled.shape[1],1))\n",
    "test_Xs_scaled = Xs_scaled[:10000,:,:]\n",
    "test_Ys_scaled = Ys_scaled[:10000]\n",
    "data_Xs_scaled = Xs_scaled[10000:,:,:]\n",
    "data_Ys_scaled = Ys_scaled[10000:,]\n",
    "print(Xs_scaled.shape, Ys_scaled.shape)\n",
    "print(data_Xs_scaled.shape,data_Ys_scaled.shape)"
   ]
  },
  {
   "cell_type": "code",
   "execution_count": 243,
   "metadata": {
    "scrolled": true
   },
   "outputs": [
    {
     "name": "stdout",
     "output_type": "stream",
     "text": [
      "Epoch 1/10\n",
      "20344/20344 [==============================] - 2s 116us/sample - loss: 0.3087\n",
      "Epoch 2/10\n",
      "20344/20344 [==============================] - 0s 14us/sample - loss: 0.2320\n",
      "Epoch 3/10\n",
      "20344/20344 [==============================] - 0s 14us/sample - loss: 0.1621\n",
      "Epoch 4/10\n",
      "20344/20344 [==============================] - 0s 15us/sample - loss: 0.1028\n",
      "Epoch 5/10\n",
      "20344/20344 [==============================] - 0s 14us/sample - loss: 0.0509\n",
      "Epoch 6/10\n",
      "20344/20344 [==============================] - 0s 14us/sample - loss: 0.0171\n",
      "Epoch 7/10\n",
      "20344/20344 [==============================] - 0s 15us/sample - loss: 0.0028\n",
      "Epoch 8/10\n",
      "20344/20344 [==============================] - 0s 15us/sample - loss: 5.2006e-04\n",
      "Epoch 9/10\n",
      "20344/20344 [==============================] - 0s 14us/sample - loss: 4.7289e-04\n",
      "Epoch 10/10\n",
      "20344/20344 [==============================] - 0s 15us/sample - loss: 4.5877e-04\n"
     ]
    },
    {
     "data": {
      "text/plain": [
       "<tensorflow.python.keras.callbacks.History at 0x7f42a4fa2610>"
      ]
     },
     "execution_count": 243,
     "metadata": {},
     "output_type": "execute_result"
    }
   ],
   "source": [
    "model = build_model()\n",
    "model.fit(data_Xs_scaled, data_Ys_scaled, epochs = 10, batch_size = 1024)"
   ]
  },
  {
   "cell_type": "code",
   "execution_count": 244,
   "metadata": {},
   "outputs": [
    {
     "data": {
      "text/plain": [
       "0.0005314304591140085"
      ]
     },
     "execution_count": 244,
     "metadata": {},
     "output_type": "execute_result"
    }
   ],
   "source": [
    "from sklearn.metrics import mean_squared_error\n",
    "pred = model.predict(test_Xs_scaled)\n",
    "mean_squared_error(pred, test_Ys_scaled)"
   ]
  },
  {
   "cell_type": "code",
   "execution_count": 246,
   "metadata": {},
   "outputs": [
    {
     "name": "stdout",
     "output_type": "stream",
     "text": [
      "Epoch 1/20\n",
      "10000/10000 [==============================] - 2s 222us/sample - loss: 0.2236\n",
      "Epoch 2/20\n",
      "10000/10000 [==============================] - 0s 17us/sample - loss: 0.1816\n",
      "Epoch 3/20\n",
      "10000/10000 [==============================] - 0s 17us/sample - loss: 0.1426\n",
      "Epoch 4/20\n",
      "10000/10000 [==============================] - 0s 15us/sample - loss: 0.1060\n",
      "Epoch 5/20\n",
      "10000/10000 [==============================] - 0s 19us/sample - loss: 0.0727\n",
      "Epoch 6/20\n",
      "10000/10000 [==============================] - 0s 18us/sample - loss: 0.0462\n",
      "Epoch 7/20\n",
      "10000/10000 [==============================] - 0s 18us/sample - loss: 0.0268\n",
      "Epoch 8/20\n",
      "10000/10000 [==============================] - 0s 18us/sample - loss: 0.0135\n",
      "Epoch 9/20\n",
      "10000/10000 [==============================] - 0s 16us/sample - loss: 0.0058\n",
      "Epoch 10/20\n",
      "10000/10000 [==============================] - 0s 17us/sample - loss: 0.0022\n",
      "Epoch 11/20\n",
      "10000/10000 [==============================] - 0s 17us/sample - loss: 8.8405e-04\n",
      "Epoch 12/20\n",
      "10000/10000 [==============================] - 0s 16us/sample - loss: 6.4385e-04\n",
      "Epoch 13/20\n",
      "10000/10000 [==============================] - 0s 15us/sample - loss: 6.2827e-04\n",
      "Epoch 14/20\n",
      "10000/10000 [==============================] - 0s 15us/sample - loss: 6.2460e-04\n",
      "Epoch 15/20\n",
      "10000/10000 [==============================] - 0s 16us/sample - loss: 6.2136e-04\n",
      "Epoch 16/20\n",
      "10000/10000 [==============================] - 0s 16us/sample - loss: 6.1519e-04\n",
      "Epoch 17/20\n",
      "10000/10000 [==============================] - 0s 17us/sample - loss: 6.0964e-04\n",
      "Epoch 18/20\n",
      "10000/10000 [==============================] - 0s 15us/sample - loss: 6.0663e-04\n",
      "Epoch 19/20\n",
      "10000/10000 [==============================] - 0s 15us/sample - loss: 6.0428e-04\n",
      "Epoch 20/20\n",
      "10000/10000 [==============================] - 0s 16us/sample - loss: 6.0269e-04\n"
     ]
    },
    {
     "data": {
      "text/plain": [
       "0.00041364503648582166"
      ]
     },
     "execution_count": 246,
     "metadata": {},
     "output_type": "execute_result"
    }
   ],
   "source": [
    "model = build_model()\n",
    "model.fit(test_Xs_scaled, test_Ys_scaled, epochs = 20, batch_size = 1024)\n",
    "pred = model.predict(data_Xs_scaled)\n",
    "mean_squared_error(pred, data_Ys_scaled)"
   ]
  },
  {
   "cell_type": "code",
   "execution_count": null,
   "metadata": {},
   "outputs": [],
   "source": []
  }
 ],
 "metadata": {
  "kernelspec": {
   "display_name": "Python 3",
   "language": "python",
   "name": "python3"
  },
  "language_info": {
   "codemirror_mode": {
    "name": "ipython",
    "version": 3
   },
   "file_extension": ".py",
   "mimetype": "text/x-python",
   "name": "python",
   "nbconvert_exporter": "python",
   "pygments_lexer": "ipython3",
   "version": "3.7.4"
  }
 },
 "nbformat": 4,
 "nbformat_minor": 2
}
